{
 "cells": [
  {
   "cell_type": "code",
   "execution_count": 20,
   "metadata": {},
   "outputs": [],
   "source": [
    "import pandas as pd\n",
    "import math"
   ]
  },
  {
   "cell_type": "code",
   "execution_count": 24,
   "metadata": {},
   "outputs": [
    {
     "data": {
      "text/html": [
       "<div>\n",
       "<style scoped>\n",
       "    .dataframe tbody tr th:only-of-type {\n",
       "        vertical-align: middle;\n",
       "    }\n",
       "\n",
       "    .dataframe tbody tr th {\n",
       "        vertical-align: top;\n",
       "    }\n",
       "\n",
       "    .dataframe thead th {\n",
       "        text-align: right;\n",
       "    }\n",
       "</style>\n",
       "<table border=\"1\" class=\"dataframe\">\n",
       "  <thead>\n",
       "    <tr style=\"text-align: right;\">\n",
       "      <th></th>\n",
       "      <th>Name</th>\n",
       "      <th>Division</th>\n",
       "      <th>Region</th>\n",
       "      <th>Area</th>\n",
       "      <th>Population</th>\n",
       "    </tr>\n",
       "  </thead>\n",
       "  <tbody>\n",
       "    <tr>\n",
       "      <th>0</th>\n",
       "      <td>Thành phố Hà Nội</td>\n",
       "      <td>Thành phố Trung ương</td>\n",
       "      <td>Đồng bằng sông Hồng</td>\n",
       "      <td>3358.6</td>\n",
       "      <td>8093.9</td>\n",
       "    </tr>\n",
       "    <tr>\n",
       "      <th>1</th>\n",
       "      <td>Tỉnh Hà Giang</td>\n",
       "      <td>Tỉnh</td>\n",
       "      <td>Đông Bắc Bộ</td>\n",
       "      <td>7929.5</td>\n",
       "      <td>858.1</td>\n",
       "    </tr>\n",
       "    <tr>\n",
       "      <th>2</th>\n",
       "      <td>Tỉnh Cao Bằng</td>\n",
       "      <td>Tỉnh</td>\n",
       "      <td>Đông Bắc Bộ</td>\n",
       "      <td>6700.3</td>\n",
       "      <td>530.9</td>\n",
       "    </tr>\n",
       "    <tr>\n",
       "      <th>3</th>\n",
       "      <td>Tỉnh Bắc Kạn</td>\n",
       "      <td>Tỉnh</td>\n",
       "      <td>Đông Bắc Bộ</td>\n",
       "      <td>4860.0</td>\n",
       "      <td>314.4</td>\n",
       "    </tr>\n",
       "    <tr>\n",
       "      <th>4</th>\n",
       "      <td>Tỉnh Tuyên Quang</td>\n",
       "      <td>Tỉnh</td>\n",
       "      <td>Đông Bắc Bộ</td>\n",
       "      <td>5867.9</td>\n",
       "      <td>786.3</td>\n",
       "    </tr>\n",
       "    <tr>\n",
       "      <th>...</th>\n",
       "      <td>...</td>\n",
       "      <td>...</td>\n",
       "      <td>...</td>\n",
       "      <td>...</td>\n",
       "      <td>...</td>\n",
       "    </tr>\n",
       "    <tr>\n",
       "      <th>58</th>\n",
       "      <td>Thành phố Cần Thơ</td>\n",
       "      <td>Thành phố Trung ương</td>\n",
       "      <td>Đồng bằng sông Cửu Long</td>\n",
       "      <td>1439.0</td>\n",
       "      <td>1236.0</td>\n",
       "    </tr>\n",
       "    <tr>\n",
       "      <th>59</th>\n",
       "      <td>Tỉnh Hậu Giang</td>\n",
       "      <td>Tỉnh</td>\n",
       "      <td>Đồng bằng sông Cửu Long</td>\n",
       "      <td>1621.7</td>\n",
       "      <td>732.2</td>\n",
       "    </tr>\n",
       "    <tr>\n",
       "      <th>60</th>\n",
       "      <td>Tỉnh Sóc Trăng</td>\n",
       "      <td>Tỉnh</td>\n",
       "      <td>Đồng bằng sông Cửu Long</td>\n",
       "      <td>3311.9</td>\n",
       "      <td>1199.5</td>\n",
       "    </tr>\n",
       "    <tr>\n",
       "      <th>61</th>\n",
       "      <td>Tỉnh Bạc Liêu</td>\n",
       "      <td>Tỉnh</td>\n",
       "      <td>Đồng bằng sông Cửu Long</td>\n",
       "      <td>2669.0</td>\n",
       "      <td>908.2</td>\n",
       "    </tr>\n",
       "    <tr>\n",
       "      <th>62</th>\n",
       "      <td>Tỉnh Cà Mau</td>\n",
       "      <td>Tỉnh</td>\n",
       "      <td>Đồng bằng sông Cửu Long</td>\n",
       "      <td>5221.2</td>\n",
       "      <td>1194.3</td>\n",
       "    </tr>\n",
       "  </tbody>\n",
       "</table>\n",
       "<p>63 rows × 5 columns</p>\n",
       "</div>"
      ],
      "text/plain": [
       "                 Name              Division                   Region    Area  \\\n",
       "0    Thành phố Hà Nội  Thành phố Trung ương      Đồng bằng sông Hồng  3358.6   \n",
       "1       Tỉnh Hà Giang                  Tỉnh              Đông Bắc Bộ  7929.5   \n",
       "2       Tỉnh Cao Bằng                  Tỉnh              Đông Bắc Bộ  6700.3   \n",
       "3        Tỉnh Bắc Kạn                  Tỉnh              Đông Bắc Bộ  4860.0   \n",
       "4    Tỉnh Tuyên Quang                  Tỉnh              Đông Bắc Bộ  5867.9   \n",
       "..                ...                   ...                      ...     ...   \n",
       "58  Thành phố Cần Thơ  Thành phố Trung ương  Đồng bằng sông Cửu Long  1439.0   \n",
       "59     Tỉnh Hậu Giang                  Tỉnh  Đồng bằng sông Cửu Long  1621.7   \n",
       "60     Tỉnh Sóc Trăng                  Tỉnh  Đồng bằng sông Cửu Long  3311.9   \n",
       "61      Tỉnh Bạc Liêu                  Tỉnh  Đồng bằng sông Cửu Long  2669.0   \n",
       "62        Tỉnh Cà Mau                  Tỉnh  Đồng bằng sông Cửu Long  5221.2   \n",
       "\n",
       "    Population  \n",
       "0       8093.9  \n",
       "1        858.1  \n",
       "2        530.9  \n",
       "3        314.4  \n",
       "4        786.3  \n",
       "..         ...  \n",
       "58      1236.0  \n",
       "59       732.2  \n",
       "60      1199.5  \n",
       "61       908.2  \n",
       "62      1194.3  \n",
       "\n",
       "[63 rows x 5 columns]"
      ]
     },
     "execution_count": 24,
     "metadata": {},
     "output_type": "execute_result"
    }
   ],
   "source": [
    "col_list = [\"Name\", \"Division\", \"Region\", \"Area\", \"Population\"]\n",
    "province_list = [\n",
    "    ('Thành phố Hà Nội', 'Thành phố Trung ương', 'Đồng bằng sông Hồng', 3358.6, 8093.9),\n",
    "    ('Tỉnh Hà Giang', 'Tỉnh', 'Đông Bắc Bộ', 7929.5, 858.1),\n",
    "    ('Tỉnh Cao Bằng', 'Tỉnh', 'Đông Bắc Bộ', 6700.3, 530.9),\n",
    "    ('Tỉnh Bắc Kạn', 'Tỉnh', 'Đông Bắc Bộ', 4860.0, 314.4),\n",
    "    ('Tỉnh Tuyên Quang', 'Tỉnh', 'Đông Bắc Bộ', 5867.9, 786.3),\n",
    "    ('Tỉnh Lào Cai', 'Tỉnh', 'Tây Bắc Bộ', 6364.0, 733.3),\n",
    "    ('Tỉnh Điện Biên', 'Tỉnh', 'Tây Bắc Bộ', 9541.3, 601.7),\n",
    "    ('Tỉnh Lai Châu', 'Tỉnh', 'Tây Bắc Bộ', 9068.8, 462.6),\n",
    "    ('Tỉnh Sơn La', 'Tỉnh', 'Tây Bắc Bộ', 14123.5, 1252.7),\n",
    "    ('Tỉnh Yên Bái', 'Tỉnh', 'Tây Bắc Bộ', 6887.5, 823.0),\n",
    "    ('Tỉnh Hoà Bình', 'Tỉnh', 'Tây Bắc Bộ', 4590.6, 855.8),\n",
    "    ('Tỉnh Thái Nguyên', 'Tỉnh', 'Đông Bắc Bộ', 3526.6, 1290.9),\n",
    "    ('Tỉnh Lạng Sơn', 'Tỉnh', 'Đông Bắc Bộ', 8310.1, 782.8),\n",
    "    ('Tỉnh Quảng Ninh', 'Tỉnh', 'Đông Bắc Bộ', 6178.2, 1324.8),\n",
    "    ('Tỉnh Bắc Giang', 'Tỉnh', 'Đông Bắc Bộ', 3895.6, 1810.4),\n",
    "    ('Tỉnh Phú Thọ', 'Tỉnh', 'Đông Bắc Bộ', 3534.6, 1466.4),\n",
    "    ('Tỉnh Vĩnh Phúc', 'Tỉnh', 'Đồng bằng sông Hồng', 1235.9, 1154.8),\n",
    "    ('Tỉnh Bắc Ninh', 'Tỉnh', 'Đồng bằng sông Hồng', 822.7, 1378.6),\n",
    "    ('Tỉnh Hải Dương', 'Tỉnh', 'Đồng bằng sông Hồng', 1668.2, 1896.9),\n",
    "    ('Thành phố Hải Phòng', 'Thành phố Trung ương', 'Đồng bằng sông Hồng', 1561.8, 2033.3),\n",
    "    ('Tỉnh Hưng Yên', 'Tỉnh', 'Đồng bằng sông Hồng', 930.2, 1255.8),\n",
    "    ('Tỉnh Thái Bình', 'Tỉnh', 'Đồng bằng sông Hồng', 1586.4, 1862.2),\n",
    "    ('Tỉnh Hà Nam', 'Tỉnh', 'Đồng bằng sông Hồng', 861.9, 854.5),\n",
    "    ('Tỉnh Nam Định', 'Tỉnh', 'Đồng bằng sông Hồng', 1668.6, 1780.9),\n",
    "    ('Tỉnh Ninh Bình', 'Tỉnh', 'Đồng bằng sông Hồng', 1386.8, 984.5),\n",
    "    ('Tỉnh Thanh Hóa', 'Tỉnh', 'Bắc Trung Bộ', 11114.6, 3645.8),\n",
    "    ('Tỉnh Nghệ An', 'Tỉnh', 'Bắc Trung Bộ', 16481.4, 3337.2),\n",
    "    ('Tỉnh Hà Tĩnh', 'Tỉnh', 'Bắc Trung Bộ', 5990.7, 1290.3),\n",
    "    ('Tỉnh Quảng Bình', 'Tỉnh', 'Bắc Trung Bộ', 8000.0, 896.6),\n",
    "    ('Tỉnh Quảng Trị', 'Tỉnh', 'Bắc Trung Bộ', 4621.7, 633.4),\n",
    "    ('Tỉnh Thừa Thiên Huế', 'Tỉnh', 'Bắc Trung Bộ', 4902.4, 1129.5),\n",
    "    ('Thành phố Đà Nẵng', 'Thành phố Trung ương', 'Nam Trung Bộ', 1284.9, 1141.1),\n",
    "    ('Tỉnh Quảng Nam', 'Tỉnh', 'Nam Trung Bộ', 10574.7, 1497.5),\n",
    "    ('Tỉnh Quảng Ngãi', 'Tỉnh', 'Nam Trung Bộ', 5155.8, 1231.9),\n",
    "    ('Tỉnh Bình Định', 'Tỉnh', 'Nam Trung Bộ', 6066.2, 1487.8),\n",
    "    ('Tỉnh Phú Yên', 'Tỉnh', 'Nam Trung Bộ', 5023.4, 873.2),\n",
    "    ('Tỉnh Khánh Hòa', 'Tỉnh', 'Nam Trung Bộ', 5137.8, 1232.8),\n",
    "    ('Tỉnh Ninh Thuận', 'Tỉnh', 'Nam Trung Bộ', 3355.3, 591.0),\n",
    "    ('Tỉnh Bình Thuận', 'Tỉnh', 'Nam Trung Bộ', 7943.9, 1232.3),\n",
    "    ('Tỉnh Kon Tum', 'Tỉnh', 'Tây Nguyên', 9674.2, 543.4),\n",
    "    ('Tỉnh Gia Lai', 'Tỉnh', 'Tây Nguyên', 15511.0, 1520.2),\n",
    "    ('Tỉnh Đắk Lắk', 'Tỉnh', 'Tây Nguyên', 13030.5, 1872.6),\n",
    "    ('Tỉnh Đắk Nông', 'Tỉnh', 'Tây Nguyên', 6509.3, 625.8),\n",
    "    ('Tỉnh Lâm Đồng', 'Tỉnh', 'Tây Nguyên', 9783.3, 1299.3),\n",
    "    ('Tỉnh Bình Phước', 'Tỉnh', 'Đông Nam Bộ', 6876.8, 997.8),\n",
    "    ('Tỉnh Tây Ninh', 'Tỉnh', 'Đông Nam Bộ', 4041.3, 1171.7),\n",
    "    ('Tỉnh Bình Dương', 'Tỉnh', 'Đông Nam Bộ', 2694.6, 2456.3),\n",
    "    ('Tỉnh Đồng Nai', 'Tỉnh', 'Đông Nam Bộ', 5863.6, 3113.7),\n",
    "    ('Tỉnh Bà Rịa - Vũng Tàu', 'Tỉnh', 'Đông Nam Bộ', 1981.0, 1152.2),\n",
    "    ('Thành phố Hồ Chí Minh', 'Thành phố Trung ương', 'Đông Nam Bộ', 2061.4, 9038.6),\n",
    "    ('Tỉnh Long An', 'Tỉnh', 'Đồng bằng sông Cửu Long', 4494.9, 1695.1),\n",
    "    ('Tỉnh Tiền Giang', 'Tỉnh', 'Đồng bằng sông Cửu Long', 2510.6, 1766.3),\n",
    "    ('Tỉnh Bến Tre', 'Tỉnh', 'Đồng bằng sông Cửu Long', 2394.8, 1289.1),\n",
    "    ('Tỉnh Trà Vinh', 'Tỉnh', 'Đồng bằng sông Cửu Long', 2358.3, 1009.3),\n",
    "    ('Tỉnh Vĩnh Long', 'Tỉnh', 'Đồng bằng sông Cửu Long', 1525.7, 1022.6),\n",
    "    ('Tỉnh Đồng Tháp', 'Tỉnh', 'Đồng bằng sông Cửu Long', 3383.8, 1598.8),\n",
    "    ('Tỉnh An Giang', 'Tỉnh', 'Đồng bằng sông Cửu Long', 3536.7, 1907.4),\n",
    "    ('Tỉnh Kiên Giang', 'Tỉnh', 'Đồng bằng sông Cửu Long', 6348.8, 1723.7),\n",
    "    ('Thành phố Cần Thơ', 'Thành phố Trung ương', 'Đồng bằng sông Cửu Long', 1439.0, 1236.0),\n",
    "    ('Tỉnh Hậu Giang', 'Tỉnh', 'Đồng bằng sông Cửu Long', 1621.7, 732.2),\n",
    "    ('Tỉnh Sóc Trăng', 'Tỉnh', 'Đồng bằng sông Cửu Long', 3311.9, 1199.5),\n",
    "    ('Tỉnh Bạc Liêu', 'Tỉnh', 'Đồng bằng sông Cửu Long', 2669.0, 908.2),\n",
    "    ('Tỉnh Cà Mau', 'Tỉnh', 'Đồng bằng sông Cửu Long', 5221.2, 1194.3)\n",
    "]\n",
    "\n",
    "df = pd.DataFrame(\n",
    "    province_list,\n",
    "    columns=col_list\n",
    ")\n",
    "\n",
    "df"
   ]
  },
  {
   "cell_type": "code",
   "execution_count": null,
   "metadata": {},
   "outputs": [
    {
     "name": "stdout",
     "output_type": "stream",
     "text": [
      "<class 'pandas.core.frame.DataFrame'>\n",
      "RangeIndex: 63 entries, 0 to 62\n",
      "Data columns (total 5 columns):\n",
      " #   Column      Non-Null Count  Dtype  \n",
      "---  ------      --------------  -----  \n",
      " 0   Name        63 non-null     object \n",
      " 1   Division    63 non-null     object \n",
      " 2   Region      63 non-null     object \n",
      " 3   Area        63 non-null     float64\n",
      " 4   Population  63 non-null     float64\n",
      "dtypes: float64(2), object(3)\n",
      "memory usage: 2.6+ KB\n"
     ]
    }
   ],
   "source": [
    "df.info()"
   ]
  },
  {
   "cell_type": "code",
   "execution_count": null,
   "metadata": {},
   "outputs": [
    {
     "name": "stderr",
     "output_type": "stream",
     "text": [
      "C:\\Users\\ACER\\AppData\\Local\\Temp\\ipykernel_9192\\1186516517.py:1: FutureWarning: As the xlwt package is no longer maintained, the xlwt engine will be removed in a future version of pandas. This is the only engine in pandas that supports writing in the xls format. Install openpyxl and write to an xlsx file instead. You can set the option io.excel.xls.writer to 'xlwt' to silence this warning. While this option is deprecated and will also raise a warning, it can be globally set and the warning suppressed.\n",
      "  df.to_excel(\"provinces.xls\", index = False, sheet_name = \"provinces\")\n"
     ]
    }
   ],
   "source": [
    "df.to_excel(\"provinces.xls\", index = False, sheet_name = \"provinces\")\n",
    "df.to_csv(\"provinces.csv\", index = False)"
   ]
  },
  {
   "cell_type": "code",
   "execution_count": 3,
   "metadata": {},
   "outputs": [],
   "source": [
    "data = pd.read_csv(\"./Hostel.csv\")"
   ]
  },
  {
   "cell_type": "code",
   "execution_count": 4,
   "metadata": {},
   "outputs": [
    {
     "data": {
      "text/html": [
       "<div>\n",
       "<style scoped>\n",
       "    .dataframe tbody tr th:only-of-type {\n",
       "        vertical-align: middle;\n",
       "    }\n",
       "\n",
       "    .dataframe tbody tr th {\n",
       "        vertical-align: top;\n",
       "    }\n",
       "\n",
       "    .dataframe thead th {\n",
       "        text-align: right;\n",
       "    }\n",
       "</style>\n",
       "<table border=\"1\" class=\"dataframe\">\n",
       "  <thead>\n",
       "    <tr style=\"text-align: right;\">\n",
       "      <th></th>\n",
       "      <th>Unnamed: 0</th>\n",
       "      <th>hostel.name</th>\n",
       "      <th>City</th>\n",
       "      <th>price.from</th>\n",
       "      <th>Distance</th>\n",
       "      <th>summary.score</th>\n",
       "      <th>rating.band</th>\n",
       "      <th>atmosphere</th>\n",
       "      <th>cleanliness</th>\n",
       "      <th>facilities</th>\n",
       "      <th>location.y</th>\n",
       "      <th>security</th>\n",
       "      <th>staff</th>\n",
       "      <th>valueformoney</th>\n",
       "      <th>lon</th>\n",
       "      <th>lat</th>\n",
       "    </tr>\n",
       "  </thead>\n",
       "  <tbody>\n",
       "    <tr>\n",
       "      <th>0</th>\n",
       "      <td>1</td>\n",
       "      <td>\"Bike &amp; Bed\" CharinCo Hostel</td>\n",
       "      <td>Osaka</td>\n",
       "      <td>3300</td>\n",
       "      <td>2.9km from city centre</td>\n",
       "      <td>9.2</td>\n",
       "      <td>Superb</td>\n",
       "      <td>8.9</td>\n",
       "      <td>9.4</td>\n",
       "      <td>9.3</td>\n",
       "      <td>8.9</td>\n",
       "      <td>9.0</td>\n",
       "      <td>9.4</td>\n",
       "      <td>9.4</td>\n",
       "      <td>135.513767</td>\n",
       "      <td>34.682678</td>\n",
       "    </tr>\n",
       "    <tr>\n",
       "      <th>1</th>\n",
       "      <td>2</td>\n",
       "      <td>&amp; And Hostel</td>\n",
       "      <td>Fukuoka-City</td>\n",
       "      <td>2600</td>\n",
       "      <td>0.7km from city centre</td>\n",
       "      <td>9.5</td>\n",
       "      <td>Superb</td>\n",
       "      <td>9.4</td>\n",
       "      <td>9.7</td>\n",
       "      <td>9.5</td>\n",
       "      <td>9.7</td>\n",
       "      <td>9.2</td>\n",
       "      <td>9.7</td>\n",
       "      <td>9.5</td>\n",
       "      <td>NaN</td>\n",
       "      <td>NaN</td>\n",
       "    </tr>\n",
       "    <tr>\n",
       "      <th>2</th>\n",
       "      <td>3</td>\n",
       "      <td>&amp;And Hostel Akihabara</td>\n",
       "      <td>Tokyo</td>\n",
       "      <td>3600</td>\n",
       "      <td>7.8km from city centre</td>\n",
       "      <td>8.7</td>\n",
       "      <td>Fabulous</td>\n",
       "      <td>8.0</td>\n",
       "      <td>7.0</td>\n",
       "      <td>9.0</td>\n",
       "      <td>8.0</td>\n",
       "      <td>10.0</td>\n",
       "      <td>10.0</td>\n",
       "      <td>9.0</td>\n",
       "      <td>139.777472</td>\n",
       "      <td>35.697447</td>\n",
       "    </tr>\n",
       "    <tr>\n",
       "      <th>3</th>\n",
       "      <td>4</td>\n",
       "      <td>&amp;And Hostel Ueno</td>\n",
       "      <td>Tokyo</td>\n",
       "      <td>2600</td>\n",
       "      <td>8.7km from city centre</td>\n",
       "      <td>7.4</td>\n",
       "      <td>Very Good</td>\n",
       "      <td>8.0</td>\n",
       "      <td>7.5</td>\n",
       "      <td>7.5</td>\n",
       "      <td>7.5</td>\n",
       "      <td>7.0</td>\n",
       "      <td>8.0</td>\n",
       "      <td>6.5</td>\n",
       "      <td>139.783667</td>\n",
       "      <td>35.712716</td>\n",
       "    </tr>\n",
       "    <tr>\n",
       "      <th>4</th>\n",
       "      <td>5</td>\n",
       "      <td>&amp;And Hostel-Asakusa North-</td>\n",
       "      <td>Tokyo</td>\n",
       "      <td>1500</td>\n",
       "      <td>10.5km from city centre</td>\n",
       "      <td>9.4</td>\n",
       "      <td>Superb</td>\n",
       "      <td>9.5</td>\n",
       "      <td>9.5</td>\n",
       "      <td>9.0</td>\n",
       "      <td>9.0</td>\n",
       "      <td>9.5</td>\n",
       "      <td>10.0</td>\n",
       "      <td>9.5</td>\n",
       "      <td>139.798371</td>\n",
       "      <td>35.727898</td>\n",
       "    </tr>\n",
       "  </tbody>\n",
       "</table>\n",
       "</div>"
      ],
      "text/plain": [
       "   Unnamed: 0                   hostel.name          City  price.from  \\\n",
       "0           1  \"Bike & Bed\" CharinCo Hostel         Osaka        3300   \n",
       "1           2                  & And Hostel  Fukuoka-City        2600   \n",
       "2           3         &And Hostel Akihabara         Tokyo        3600   \n",
       "3           4              &And Hostel Ueno         Tokyo        2600   \n",
       "4           5    &And Hostel-Asakusa North-         Tokyo        1500   \n",
       "\n",
       "                  Distance  summary.score rating.band  atmosphere  \\\n",
       "0   2.9km from city centre            9.2      Superb         8.9   \n",
       "1   0.7km from city centre            9.5      Superb         9.4   \n",
       "2   7.8km from city centre            8.7    Fabulous         8.0   \n",
       "3   8.7km from city centre            7.4   Very Good         8.0   \n",
       "4  10.5km from city centre            9.4      Superb         9.5   \n",
       "\n",
       "   cleanliness  facilities  location.y  security  staff  valueformoney  \\\n",
       "0          9.4         9.3         8.9       9.0    9.4            9.4   \n",
       "1          9.7         9.5         9.7       9.2    9.7            9.5   \n",
       "2          7.0         9.0         8.0      10.0   10.0            9.0   \n",
       "3          7.5         7.5         7.5       7.0    8.0            6.5   \n",
       "4          9.5         9.0         9.0       9.5   10.0            9.5   \n",
       "\n",
       "          lon        lat  \n",
       "0  135.513767  34.682678  \n",
       "1         NaN        NaN  \n",
       "2  139.777472  35.697447  \n",
       "3  139.783667  35.712716  \n",
       "4  139.798371  35.727898  "
      ]
     },
     "execution_count": 4,
     "metadata": {},
     "output_type": "execute_result"
    }
   ],
   "source": [
    "data.head()"
   ]
  },
  {
   "cell_type": "code",
   "execution_count": 18,
   "metadata": {},
   "outputs": [
    {
     "data": {
      "text/plain": [
       "2.23606797749979"
      ]
     },
     "execution_count": 18,
     "metadata": {},
     "output_type": "execute_result"
    }
   ],
   "source": [
    "a = pd.Series([1, 3, 4, 5, 7])\n",
    "a.std()"
   ]
  },
  {
   "cell_type": "code",
   "execution_count": 17,
   "metadata": {},
   "outputs": [
    {
     "data": {
      "text/plain": [
       "23"
      ]
     },
     "execution_count": 17,
     "metadata": {},
     "output_type": "execute_result"
    }
   ],
   "source": [
    "sum = (1-4)**2 + (1-3)**2 + (4-4)**2 + (5-4)**2 + (7-4)**2\n",
    "sum"
   ]
  },
  {
   "cell_type": "code",
   "execution_count": 22,
   "metadata": {},
   "outputs": [
    {
     "data": {
      "text/plain": [
       "2.3979157616563596"
      ]
     },
     "execution_count": 22,
     "metadata": {},
     "output_type": "execute_result"
    }
   ],
   "source": [
    "math.sqrt(sum/4)"
   ]
  },
  {
   "cell_type": "code",
   "execution_count": 12,
   "metadata": {},
   "outputs": [
    {
     "data": {
      "text/plain": [
       "Tokyo           127\n",
       "Osaka           104\n",
       "Kyoto            78\n",
       "Fukuoka-City     19\n",
       "Hiroshima        14\n",
       "Name: City, dtype: int64"
      ]
     },
     "execution_count": 12,
     "metadata": {},
     "output_type": "execute_result"
    }
   ],
   "source": [
    "data['City'].value_counts()"
   ]
  },
  {
   "cell_type": "code",
   "execution_count": 14,
   "metadata": {},
   "outputs": [
    {
     "data": {
      "text/plain": [
       "count    327.000000\n",
       "mean       8.238838\n",
       "std        1.382002\n",
       "min        2.000000\n",
       "25%        7.800000\n",
       "50%        8.600000\n",
       "75%        9.000000\n",
       "max       10.000000\n",
       "Name: atmosphere, dtype: float64"
      ]
     },
     "execution_count": 14,
     "metadata": {},
     "output_type": "execute_result"
    }
   ],
   "source": [
    "data.atmosphere.describe()"
   ]
  },
  {
   "cell_type": "code",
   "execution_count": 7,
   "metadata": {},
   "outputs": [
    {
     "name": "stderr",
     "output_type": "stream",
     "text": [
      "C:\\Users\\Admin\\AppData\\Local\\Temp\\ipykernel_17160\\927168777.py:1: FutureWarning: The default value of numeric_only in DataFrame.min is deprecated. In a future version, it will default to False. In addition, specifying 'numeric_only=None' is deprecated. Select only valid columns or specify the value of numeric_only to silence this warning.\n",
      "  data.min()\n"
     ]
    },
    {
     "data": {
      "text/plain": [
       "Unnamed: 0                                  1\n",
       "hostel.name      \"Bike & Bed\" CharinCo Hostel\n",
       "City                             Fukuoka-City\n",
       "price.from                               1000\n",
       "Distance               0.3km from city centre\n",
       "summary.score                             3.1\n",
       "atmosphere                                2.0\n",
       "cleanliness                               2.0\n",
       "facilities                                2.0\n",
       "location.y                                2.0\n",
       "security                                  2.0\n",
       "staff                                     2.0\n",
       "valueformoney                             4.0\n",
       "lon                                103.873135\n",
       "lat                                   1.31082\n",
       "dtype: object"
      ]
     },
     "execution_count": 7,
     "metadata": {},
     "output_type": "execute_result"
    }
   ],
   "source": [
    "data.min()"
   ]
  },
  {
   "cell_type": "code",
   "execution_count": 27,
   "metadata": {},
   "outputs": [
    {
     "name": "stdout",
     "output_type": "stream",
     "text": [
      "0      Thành phố Hà Nội\n",
      "1         Tỉnh Hà Giang\n",
      "2         Tỉnh Cao Bằng\n",
      "3          Tỉnh Bắc Kạn\n",
      "4      Tỉnh Tuyên Quang\n",
      "            ...        \n",
      "58    Thành phố Cần Thơ\n",
      "59       Tỉnh Hậu Giang\n",
      "60       Tỉnh Sóc Trăng\n",
      "61        Tỉnh Bạc Liêu\n",
      "62          Tỉnh Cà Mau\n",
      "Name: Name, Length: 63, dtype: object\n"
     ]
    }
   ],
   "source": [
    "print(df.Name)"
   ]
  }
 ],
 "metadata": {
  "kernelspec": {
   "display_name": "Python 3.10.4 64-bit",
   "language": "python",
   "name": "python3"
  },
  "language_info": {
   "codemirror_mode": {
    "name": "ipython",
    "version": 3
   },
   "file_extension": ".py",
   "mimetype": "text/x-python",
   "name": "python",
   "nbconvert_exporter": "python",
   "pygments_lexer": "ipython3",
   "version": "3.10.4"
  },
  "orig_nbformat": 4,
  "vscode": {
   "interpreter": {
    "hash": "a42ccb73e7d9bfdf27e036f1d2b8b681e55fc0743cc5586bc2474d4a60f4b886"
   }
  }
 },
 "nbformat": 4,
 "nbformat_minor": 2
}
