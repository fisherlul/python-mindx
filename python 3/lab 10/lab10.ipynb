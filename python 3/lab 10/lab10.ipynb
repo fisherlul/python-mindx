{
 "cells": [
  {
   "cell_type": "code",
   "execution_count": 1,
   "metadata": {},
   "outputs": [],
   "source": [
    "import pandas as pd"
   ]
  },
  {
   "cell_type": "code",
   "execution_count": 20,
   "metadata": {},
   "outputs": [
    {
     "name": "stdout",
     "output_type": "stream",
     "text": [
      "List of provinces and cities: \n",
      "\n",
      "Tỉnh Hà Giang, Tỉnh Cao Bằng, Tỉnh Bắc Kạn, Tỉnh Tuyên Quang, Tỉnh Lào Cai, Tỉnh Điện Biên, Tỉnh Lai Châu, Tỉnh Sơn La, Tỉnh Yên Bái, Tỉnh Hoà Bình, Tỉnh Thái Nguyên, Tỉnh Lạng Sơn, Tỉnh Quảng Ninh, Tỉnh Bắc Giang, Tỉnh Phú Thọ, Tỉnh Vĩnh Phúc, Tỉnh Bắc Ninh, Tỉnh Hải Dương, Thành phố Hải Phòng, Tỉnh Hưng Yên, Tỉnh Thái Bình, Tỉnh Hà Nam, Tỉnh Nam Định, Tỉnh Ninh Bình, Tỉnh Thanh Hóa, Tỉnh Nghệ An, Tỉnh Hà Tĩnh, Tỉnh Quảng Bình, Tỉnh Quảng Trị, Tỉnh Thừa Thiên Huế, Thành phố Đà Nẵng, Tỉnh Quảng Nam, Tỉnh Quảng Ngãi, Tỉnh Bình Định, Tỉnh Phú Yên, Tỉnh Khánh Hòa, Tỉnh Ninh Thuận, Tỉnh Bình Thuận, Tỉnh Kon Tum, Tỉnh Gia Lai, Tỉnh Đắk Lắk, Tỉnh Đắk Nông, Tỉnh Lâm Đồng, Tỉnh Bình Phước, Tỉnh Tây Ninh, Tỉnh Bình Dương, Tỉnh Đồng Nai, Tỉnh Bà Rịa - Vũng Tàu, Thành phố Hồ Chí Minh, Tỉnh Long An, Tỉnh Tiền Giang, Tỉnh Bến Tre, Tỉnh Trà Vinh, Tỉnh Vĩnh Long, Tỉnh Đồng Tháp, Tỉnh An Giang, Tỉnh Kiên Giang, Thành phố Cần Thơ, Tỉnh Hậu Giang, Tỉnh Sóc Trăng, Tỉnh Bạc Liêu, Tỉnh Cà Mau, "
     ]
    }
   ],
   "source": [
    "data = pd.read_excel(\"./provinces.xls\")\n",
    "print('List of provinces and cities: \\n')\n",
    "for i in range(1, len(data)):\n",
    "    print(data.iloc[i]['Name'], end = ', ')"
   ]
  },
  {
   "cell_type": "code",
   "execution_count": 29,
   "metadata": {},
   "outputs": [
    {
     "data": {
      "text/html": [
       "<div>\n",
       "<style scoped>\n",
       "    .dataframe tbody tr th:only-of-type {\n",
       "        vertical-align: middle;\n",
       "    }\n",
       "\n",
       "    .dataframe tbody tr th {\n",
       "        vertical-align: top;\n",
       "    }\n",
       "\n",
       "    .dataframe thead th {\n",
       "        text-align: right;\n",
       "    }\n",
       "</style>\n",
       "<table border=\"1\" class=\"dataframe\">\n",
       "  <thead>\n",
       "    <tr style=\"text-align: right;\">\n",
       "      <th></th>\n",
       "      <th>Name</th>\n",
       "      <th>Region</th>\n",
       "    </tr>\n",
       "  </thead>\n",
       "  <tbody>\n",
       "    <tr>\n",
       "      <th>0</th>\n",
       "      <td>Thành phố Hà Nội</td>\n",
       "      <td>Đồng bằng sông Hồng</td>\n",
       "    </tr>\n",
       "    <tr>\n",
       "      <th>1</th>\n",
       "      <td>Tỉnh Hà Giang</td>\n",
       "      <td>Đông Bắc Bộ</td>\n",
       "    </tr>\n",
       "    <tr>\n",
       "      <th>2</th>\n",
       "      <td>Tỉnh Cao Bằng</td>\n",
       "      <td>Đông Bắc Bộ</td>\n",
       "    </tr>\n",
       "    <tr>\n",
       "      <th>3</th>\n",
       "      <td>Tỉnh Bắc Kạn</td>\n",
       "      <td>Đông Bắc Bộ</td>\n",
       "    </tr>\n",
       "    <tr>\n",
       "      <th>4</th>\n",
       "      <td>Tỉnh Tuyên Quang</td>\n",
       "      <td>Đông Bắc Bộ</td>\n",
       "    </tr>\n",
       "    <tr>\n",
       "      <th>...</th>\n",
       "      <td>...</td>\n",
       "      <td>...</td>\n",
       "    </tr>\n",
       "    <tr>\n",
       "      <th>58</th>\n",
       "      <td>Thành phố Cần Thơ</td>\n",
       "      <td>Đồng bằng sông Cửu Long</td>\n",
       "    </tr>\n",
       "    <tr>\n",
       "      <th>59</th>\n",
       "      <td>Tỉnh Hậu Giang</td>\n",
       "      <td>Đồng bằng sông Cửu Long</td>\n",
       "    </tr>\n",
       "    <tr>\n",
       "      <th>60</th>\n",
       "      <td>Tỉnh Sóc Trăng</td>\n",
       "      <td>Đồng bằng sông Cửu Long</td>\n",
       "    </tr>\n",
       "    <tr>\n",
       "      <th>61</th>\n",
       "      <td>Tỉnh Bạc Liêu</td>\n",
       "      <td>Đồng bằng sông Cửu Long</td>\n",
       "    </tr>\n",
       "    <tr>\n",
       "      <th>62</th>\n",
       "      <td>Tỉnh Cà Mau</td>\n",
       "      <td>Đồng bằng sông Cửu Long</td>\n",
       "    </tr>\n",
       "  </tbody>\n",
       "</table>\n",
       "<p>63 rows × 2 columns</p>\n",
       "</div>"
      ],
      "text/plain": [
       "                 Name                   Region\n",
       "0    Thành phố Hà Nội      Đồng bằng sông Hồng\n",
       "1       Tỉnh Hà Giang              Đông Bắc Bộ\n",
       "2       Tỉnh Cao Bằng              Đông Bắc Bộ\n",
       "3        Tỉnh Bắc Kạn              Đông Bắc Bộ\n",
       "4    Tỉnh Tuyên Quang              Đông Bắc Bộ\n",
       "..                ...                      ...\n",
       "58  Thành phố Cần Thơ  Đồng bằng sông Cửu Long\n",
       "59     Tỉnh Hậu Giang  Đồng bằng sông Cửu Long\n",
       "60     Tỉnh Sóc Trăng  Đồng bằng sông Cửu Long\n",
       "61      Tỉnh Bạc Liêu  Đồng bằng sông Cửu Long\n",
       "62        Tỉnh Cà Mau  Đồng bằng sông Cửu Long\n",
       "\n",
       "[63 rows x 2 columns]"
      ]
     },
     "execution_count": 29,
     "metadata": {},
     "output_type": "execute_result"
    }
   ],
   "source": [
    "data\n",
    "data.loc[:, ['Name', 'Region']]"
   ]
  },
  {
   "cell_type": "code",
   "execution_count": 31,
   "metadata": {},
   "outputs": [
    {
     "data": {
      "text/plain": [
       "Đồng bằng sông Cửu Long    13\n",
       "Đồng bằng sông Hồng        10\n",
       "Đông Bắc Bộ                 9\n",
       "Nam Trung Bộ                8\n",
       "Tây Bắc Bộ                  6\n",
       "Bắc Trung Bộ                6\n",
       "Đông Nam Bộ                 6\n",
       "Tây Nguyên                  5\n",
       "Name: Region, dtype: int64"
      ]
     },
     "execution_count": 31,
     "metadata": {},
     "output_type": "execute_result"
    }
   ],
   "source": [
    "data['Region'].count()\n",
    "data['Region'].value_counts()"
   ]
  },
  {
   "cell_type": "code",
   "execution_count": 38,
   "metadata": {},
   "outputs": [
    {
     "data": {
      "text/html": [
       "<div>\n",
       "<style scoped>\n",
       "    .dataframe tbody tr th:only-of-type {\n",
       "        vertical-align: middle;\n",
       "    }\n",
       "\n",
       "    .dataframe tbody tr th {\n",
       "        vertical-align: top;\n",
       "    }\n",
       "\n",
       "    .dataframe thead th {\n",
       "        text-align: right;\n",
       "    }\n",
       "</style>\n",
       "<table border=\"1\" class=\"dataframe\">\n",
       "  <thead>\n",
       "    <tr style=\"text-align: right;\">\n",
       "      <th></th>\n",
       "      <th>Name</th>\n",
       "      <th>Division</th>\n",
       "      <th>Region</th>\n",
       "      <th>Area</th>\n",
       "      <th>Population</th>\n",
       "    </tr>\n",
       "  </thead>\n",
       "  <tbody>\n",
       "    <tr>\n",
       "      <th>3</th>\n",
       "      <td>Tỉnh Bắc Kạn</td>\n",
       "      <td>Tỉnh</td>\n",
       "      <td>Đông Bắc Bộ</td>\n",
       "      <td>4860.0</td>\n",
       "      <td>314.4</td>\n",
       "    </tr>\n",
       "  </tbody>\n",
       "</table>\n",
       "</div>"
      ],
      "text/plain": [
       "           Name Division       Region    Area  Population\n",
       "3  Tỉnh Bắc Kạn     Tỉnh  Đông Bắc Bộ  4860.0       314.4"
      ]
     },
     "execution_count": 38,
     "metadata": {},
     "output_type": "execute_result"
    }
   ],
   "source": [
    "data.loc[data.Population == data['Population'].max()]\n",
    "data.loc[data.Population == data['Population'].min()]"
   ]
  },
  {
   "cell_type": "code",
   "execution_count": 46,
   "metadata": {},
   "outputs": [
    {
     "name": "stderr",
     "output_type": "stream",
     "text": [
      "C:\\Users\\Admin\\AppData\\Local\\Temp\\ipykernel_20356\\3904202490.py:1: FutureWarning: The default value of numeric_only in DataFrameGroupBy.sum is deprecated. In a future version, numeric_only will default to False. Either specify numeric_only or select only columns which should be valid for the function.\n",
      "  data2 = data.groupby(by=['Region']).sum()\n"
     ]
    },
    {
     "data": {
      "text/html": [
       "<div>\n",
       "<style scoped>\n",
       "    .dataframe tbody tr th:only-of-type {\n",
       "        vertical-align: middle;\n",
       "    }\n",
       "\n",
       "    .dataframe tbody tr th {\n",
       "        vertical-align: top;\n",
       "    }\n",
       "\n",
       "    .dataframe thead th {\n",
       "        text-align: right;\n",
       "    }\n",
       "</style>\n",
       "<table border=\"1\" class=\"dataframe\">\n",
       "  <thead>\n",
       "    <tr style=\"text-align: right;\">\n",
       "      <th></th>\n",
       "      <th>Area</th>\n",
       "      <th>Population</th>\n",
       "    </tr>\n",
       "    <tr>\n",
       "      <th>Region</th>\n",
       "      <th></th>\n",
       "      <th></th>\n",
       "    </tr>\n",
       "  </thead>\n",
       "  <tbody>\n",
       "    <tr>\n",
       "      <th>Bắc Trung Bộ</th>\n",
       "      <td>51110.8</td>\n",
       "      <td>10932.8</td>\n",
       "    </tr>\n",
       "    <tr>\n",
       "      <th>Nam Trung Bộ</th>\n",
       "      <td>44542.0</td>\n",
       "      <td>9287.6</td>\n",
       "    </tr>\n",
       "    <tr>\n",
       "      <th>Tây Bắc Bộ</th>\n",
       "      <td>50575.7</td>\n",
       "      <td>4729.1</td>\n",
       "    </tr>\n",
       "    <tr>\n",
       "      <th>Tây Nguyên</th>\n",
       "      <td>54508.3</td>\n",
       "      <td>5861.3</td>\n",
       "    </tr>\n",
       "    <tr>\n",
       "      <th>Đông Bắc Bộ</th>\n",
       "      <td>50802.8</td>\n",
       "      <td>9165.0</td>\n",
       "    </tr>\n",
       "    <tr>\n",
       "      <th>Đông Nam Bộ</th>\n",
       "      <td>23518.7</td>\n",
       "      <td>17930.3</td>\n",
       "    </tr>\n",
       "    <tr>\n",
       "      <th>Đồng bằng sông Cửu Long</th>\n",
       "      <td>40816.4</td>\n",
       "      <td>17282.5</td>\n",
       "    </tr>\n",
       "    <tr>\n",
       "      <th>Đồng bằng sông Hồng</th>\n",
       "      <td>15081.1</td>\n",
       "      <td>21295.4</td>\n",
       "    </tr>\n",
       "  </tbody>\n",
       "</table>\n",
       "</div>"
      ],
      "text/plain": [
       "                            Area  Population\n",
       "Region                                      \n",
       "Bắc Trung Bộ             51110.8     10932.8\n",
       "Nam Trung Bộ             44542.0      9287.6\n",
       "Tây Bắc Bộ               50575.7      4729.1\n",
       "Tây Nguyên               54508.3      5861.3\n",
       "Đông Bắc Bộ              50802.8      9165.0\n",
       "Đông Nam Bộ              23518.7     17930.3\n",
       "Đồng bằng sông Cửu Long  40816.4     17282.5\n",
       "Đồng bằng sông Hồng      15081.1     21295.4"
      ]
     },
     "execution_count": 46,
     "metadata": {},
     "output_type": "execute_result"
    }
   ],
   "source": [
    "data2 = data.groupby(by=['Region']).sum()\n",
    "data2"
   ]
  },
  {
   "cell_type": "code",
   "execution_count": 47,
   "metadata": {},
   "outputs": [
    {
     "data": {
      "text/plain": [
       "96484.00000000001"
      ]
     },
     "execution_count": 47,
     "metadata": {},
     "output_type": "execute_result"
    }
   ],
   "source": [
    "sum_pop = data2.Population.sum()"
   ]
  },
  {
   "cell_type": "code",
   "execution_count": 56,
   "metadata": {},
   "outputs": [
    {
     "data": {
      "text/html": [
       "<div>\n",
       "<style scoped>\n",
       "    .dataframe tbody tr th:only-of-type {\n",
       "        vertical-align: middle;\n",
       "    }\n",
       "\n",
       "    .dataframe tbody tr th {\n",
       "        vertical-align: top;\n",
       "    }\n",
       "\n",
       "    .dataframe thead th {\n",
       "        text-align: right;\n",
       "    }\n",
       "</style>\n",
       "<table border=\"1\" class=\"dataframe\">\n",
       "  <thead>\n",
       "    <tr style=\"text-align: right;\">\n",
       "      <th></th>\n",
       "      <th>Area</th>\n",
       "      <th>Population</th>\n",
       "      <th>Area Population</th>\n",
       "    </tr>\n",
       "    <tr>\n",
       "      <th>Region</th>\n",
       "      <th></th>\n",
       "      <th></th>\n",
       "      <th></th>\n",
       "    </tr>\n",
       "  </thead>\n",
       "  <tbody>\n",
       "    <tr>\n",
       "      <th>Bắc Trung Bộ</th>\n",
       "      <td>51110.8</td>\n",
       "      <td>10932.8</td>\n",
       "      <td>11.331205</td>\n",
       "    </tr>\n",
       "    <tr>\n",
       "      <th>Nam Trung Bộ</th>\n",
       "      <td>44542.0</td>\n",
       "      <td>9287.6</td>\n",
       "      <td>9.626052</td>\n",
       "    </tr>\n",
       "    <tr>\n",
       "      <th>Tây Bắc Bộ</th>\n",
       "      <td>50575.7</td>\n",
       "      <td>4729.1</td>\n",
       "      <td>4.901434</td>\n",
       "    </tr>\n",
       "    <tr>\n",
       "      <th>Tây Nguyên</th>\n",
       "      <td>54508.3</td>\n",
       "      <td>5861.3</td>\n",
       "      <td>6.074893</td>\n",
       "    </tr>\n",
       "    <tr>\n",
       "      <th>Đông Bắc Bộ</th>\n",
       "      <td>50802.8</td>\n",
       "      <td>9165.0</td>\n",
       "      <td>9.498984</td>\n",
       "    </tr>\n",
       "    <tr>\n",
       "      <th>Đông Nam Bộ</th>\n",
       "      <td>23518.7</td>\n",
       "      <td>17930.3</td>\n",
       "      <td>18.583703</td>\n",
       "    </tr>\n",
       "    <tr>\n",
       "      <th>Đồng bằng sông Cửu Long</th>\n",
       "      <td>40816.4</td>\n",
       "      <td>17282.5</td>\n",
       "      <td>17.912296</td>\n",
       "    </tr>\n",
       "    <tr>\n",
       "      <th>Đồng bằng sông Hồng</th>\n",
       "      <td>15081.1</td>\n",
       "      <td>21295.4</td>\n",
       "      <td>22.071432</td>\n",
       "    </tr>\n",
       "  </tbody>\n",
       "</table>\n",
       "</div>"
      ],
      "text/plain": [
       "                            Area  Population  Area Population\n",
       "Region                                                       \n",
       "Bắc Trung Bộ             51110.8     10932.8        11.331205\n",
       "Nam Trung Bộ             44542.0      9287.6         9.626052\n",
       "Tây Bắc Bộ               50575.7      4729.1         4.901434\n",
       "Tây Nguyên               54508.3      5861.3         6.074893\n",
       "Đông Bắc Bộ              50802.8      9165.0         9.498984\n",
       "Đông Nam Bộ              23518.7     17930.3        18.583703\n",
       "Đồng bằng sông Cửu Long  40816.4     17282.5        17.912296\n",
       "Đồng bằng sông Hồng      15081.1     21295.4        22.071432"
      ]
     },
     "execution_count": 56,
     "metadata": {},
     "output_type": "execute_result"
    }
   ],
   "source": [
    "data2[\"Area Population\"] = data2[\"Population\"]/sum_pop * 100\n",
    "data2.drop(\"Total Area\", inplace=True, axis=1)\n",
    "data2"
   ]
  },
  {
   "cell_type": "code",
   "execution_count": 66,
   "metadata": {},
   "outputs": [
    {
     "data": {
      "text/html": [
       "<div>\n",
       "<style scoped>\n",
       "    .dataframe tbody tr th:only-of-type {\n",
       "        vertical-align: middle;\n",
       "    }\n",
       "\n",
       "    .dataframe tbody tr th {\n",
       "        vertical-align: top;\n",
       "    }\n",
       "\n",
       "    .dataframe thead th {\n",
       "        text-align: right;\n",
       "    }\n",
       "</style>\n",
       "<table border=\"1\" class=\"dataframe\">\n",
       "  <thead>\n",
       "    <tr style=\"text-align: right;\">\n",
       "      <th></th>\n",
       "      <th>STT</th>\n",
       "      <th>GioiTinh</th>\n",
       "      <th>Tuoi</th>\n",
       "      <th>KhuVuc</th>\n",
       "      <th>ThuNhap</th>\n",
       "    </tr>\n",
       "  </thead>\n",
       "  <tbody>\n",
       "    <tr>\n",
       "      <th>0</th>\n",
       "      <td>1</td>\n",
       "      <td>Nam</td>\n",
       "      <td>30</td>\n",
       "      <td>NongThon</td>\n",
       "      <td>30</td>\n",
       "    </tr>\n",
       "    <tr>\n",
       "      <th>1</th>\n",
       "      <td>2</td>\n",
       "      <td>Nu</td>\n",
       "      <td>27</td>\n",
       "      <td>ThanhPho</td>\n",
       "      <td>40</td>\n",
       "    </tr>\n",
       "    <tr>\n",
       "      <th>2</th>\n",
       "      <td>3</td>\n",
       "      <td>Nu</td>\n",
       "      <td>32</td>\n",
       "      <td>MienNui</td>\n",
       "      <td>25</td>\n",
       "    </tr>\n",
       "    <tr>\n",
       "      <th>3</th>\n",
       "      <td>4</td>\n",
       "      <td>Nam</td>\n",
       "      <td>31</td>\n",
       "      <td>NongThon</td>\n",
       "      <td>35</td>\n",
       "    </tr>\n",
       "    <tr>\n",
       "      <th>4</th>\n",
       "      <td>5</td>\n",
       "      <td>Nu</td>\n",
       "      <td>41</td>\n",
       "      <td>HaiDao</td>\n",
       "      <td>42</td>\n",
       "    </tr>\n",
       "    <tr>\n",
       "      <th>...</th>\n",
       "      <td>...</td>\n",
       "      <td>...</td>\n",
       "      <td>...</td>\n",
       "      <td>...</td>\n",
       "      <td>...</td>\n",
       "    </tr>\n",
       "    <tr>\n",
       "      <th>95</th>\n",
       "      <td>96</td>\n",
       "      <td>Nu</td>\n",
       "      <td>37</td>\n",
       "      <td>HaiDao</td>\n",
       "      <td>30</td>\n",
       "    </tr>\n",
       "    <tr>\n",
       "      <th>96</th>\n",
       "      <td>97</td>\n",
       "      <td>Nu</td>\n",
       "      <td>38</td>\n",
       "      <td>NongThon</td>\n",
       "      <td>20</td>\n",
       "    </tr>\n",
       "    <tr>\n",
       "      <th>97</th>\n",
       "      <td>98</td>\n",
       "      <td>Nam</td>\n",
       "      <td>78</td>\n",
       "      <td>ThanhPho</td>\n",
       "      <td>25</td>\n",
       "    </tr>\n",
       "    <tr>\n",
       "      <th>98</th>\n",
       "      <td>99</td>\n",
       "      <td>Nam</td>\n",
       "      <td>65</td>\n",
       "      <td>ThanhPho</td>\n",
       "      <td>42</td>\n",
       "    </tr>\n",
       "    <tr>\n",
       "      <th>99</th>\n",
       "      <td>100</td>\n",
       "      <td>Nu</td>\n",
       "      <td>75</td>\n",
       "      <td>MienNui</td>\n",
       "      <td>48</td>\n",
       "    </tr>\n",
       "  </tbody>\n",
       "</table>\n",
       "<p>100 rows × 5 columns</p>\n",
       "</div>"
      ],
      "text/plain": [
       "    STT GioiTinh  Tuoi    KhuVuc  ThuNhap\n",
       "0     1      Nam    30  NongThon       30\n",
       "1     2       Nu    27  ThanhPho       40\n",
       "2     3       Nu    32   MienNui       25\n",
       "3     4      Nam    31  NongThon       35\n",
       "4     5       Nu    41    HaiDao       42\n",
       "..  ...      ...   ...       ...      ...\n",
       "95   96       Nu    37    HaiDao       30\n",
       "96   97       Nu    38  NongThon       20\n",
       "97   98      Nam    78  ThanhPho       25\n",
       "98   99      Nam    65  ThanhPho       42\n",
       "99  100       Nu    75   MienNui       48\n",
       "\n",
       "[100 rows x 5 columns]"
      ]
     },
     "execution_count": 66,
     "metadata": {},
     "output_type": "execute_result"
    }
   ],
   "source": [
    "solieu = pd.read_csv(\"./SoLieu (2).csv\")\n",
    "solieu"
   ]
  },
  {
   "cell_type": "code",
   "execution_count": 72,
   "metadata": {},
   "outputs": [
    {
     "data": {
      "text/plain": [
       "42"
      ]
     },
     "execution_count": 72,
     "metadata": {},
     "output_type": "execute_result"
    }
   ],
   "source": [
    "solieu[solieu['GioiTinh'] == 'Nam'].GioiTinh.count()\n",
    "solieu[solieu['KhuVuc'] == 'ThanhPho'].KhuVuc.count()"
   ]
  },
  {
   "cell_type": "code",
   "execution_count": 79,
   "metadata": {},
   "outputs": [
    {
     "data": {
      "text/plain": [
       "10"
      ]
     },
     "execution_count": 79,
     "metadata": {},
     "output_type": "execute_result"
    }
   ],
   "source": [
    "solieu[(solieu['GioiTinh'] == 'Nam') & (solieu['KhuVuc'] == 'HaiDao')].GioiTinh.count()\n",
    "solieu[(solieu['GioiTinh'] == 'Nu') & (solieu['KhuVuc'] == 'NongThon')].GioiTinh.count()"
   ]
  },
  {
   "cell_type": "code",
   "execution_count": 85,
   "metadata": {},
   "outputs": [
    {
     "ename": "TypeError",
     "evalue": "unsupported operand type(s) for /: 'str' and 'int'",
     "output_type": "error",
     "traceback": [
      "\u001b[1;31m---------------------------------------------------------------------------\u001b[0m",
      "\u001b[1;31mTypeError\u001b[0m                                 Traceback (most recent call last)",
      "File \u001b[1;32mc:\\Users\\Admin\\AppData\\Local\\Programs\\Python\\Python310\\lib\\site-packages\\pandas\\core\\ops\\array_ops.py:165\u001b[0m, in \u001b[0;36m_na_arithmetic_op\u001b[1;34m(left, right, op, is_cmp)\u001b[0m\n\u001b[0;32m    164\u001b[0m \u001b[39mtry\u001b[39;00m:\n\u001b[1;32m--> 165\u001b[0m     result \u001b[39m=\u001b[39m func(left, right)\n\u001b[0;32m    166\u001b[0m \u001b[39mexcept\u001b[39;00m \u001b[39mTypeError\u001b[39;00m:\n",
      "File \u001b[1;32mc:\\Users\\Admin\\AppData\\Local\\Programs\\Python\\Python310\\lib\\site-packages\\pandas\\core\\computation\\expressions.py:241\u001b[0m, in \u001b[0;36mevaluate\u001b[1;34m(op, a, b, use_numexpr)\u001b[0m\n\u001b[0;32m    239\u001b[0m     \u001b[39mif\u001b[39;00m use_numexpr:\n\u001b[0;32m    240\u001b[0m         \u001b[39m# error: \"None\" not callable\u001b[39;00m\n\u001b[1;32m--> 241\u001b[0m         \u001b[39mreturn\u001b[39;00m _evaluate(op, op_str, a, b)  \u001b[39m# type: ignore[misc]\u001b[39;00m\n\u001b[0;32m    242\u001b[0m \u001b[39mreturn\u001b[39;00m _evaluate_standard(op, op_str, a, b)\n",
      "File \u001b[1;32mc:\\Users\\Admin\\AppData\\Local\\Programs\\Python\\Python310\\lib\\site-packages\\pandas\\core\\computation\\expressions.py:70\u001b[0m, in \u001b[0;36m_evaluate_standard\u001b[1;34m(op, op_str, a, b)\u001b[0m\n\u001b[0;32m     69\u001b[0m     _store_test_result(\u001b[39mFalse\u001b[39;00m)\n\u001b[1;32m---> 70\u001b[0m \u001b[39mreturn\u001b[39;00m op(a, b)\n",
      "\u001b[1;31mTypeError\u001b[0m: unsupported operand type(s) for /: 'str' and 'int'",
      "\nDuring handling of the above exception, another exception occurred:\n",
      "\u001b[1;31mTypeError\u001b[0m                                 Traceback (most recent call last)",
      "Cell \u001b[1;32mIn[85], line 3\u001b[0m\n\u001b[0;32m      1\u001b[0m solieu\n\u001b[0;32m      2\u001b[0m sum_nu \u001b[39m=\u001b[39m solieu[solieu[\u001b[39m'\u001b[39m\u001b[39mGioiTinh\u001b[39m\u001b[39m'\u001b[39m] \u001b[39m==\u001b[39m \u001b[39m\"\u001b[39m\u001b[39mNu\u001b[39m\u001b[39m\"\u001b[39m]\u001b[39m.\u001b[39mGioiTinh\u001b[39m.\u001b[39mcount()\n\u001b[1;32m----> 3\u001b[0m nu_nongthon \u001b[39m=\u001b[39m solieu[(solieu[\u001b[39m'\u001b[39;49m\u001b[39mGioiTinh\u001b[39;49m\u001b[39m'\u001b[39;49m] \u001b[39m==\u001b[39;49m \u001b[39m'\u001b[39;49m\u001b[39mNu\u001b[39;49m\u001b[39m'\u001b[39;49m) \u001b[39m&\u001b[39;49m (solieu[\u001b[39m'\u001b[39;49m\u001b[39mKhuVuc\u001b[39;49m\u001b[39m'\u001b[39;49m] \u001b[39m==\u001b[39;49m \u001b[39m'\u001b[39;49m\u001b[39mNongThon\u001b[39;49m\u001b[39m'\u001b[39;49m)]\u001b[39m.\u001b[39;49mGioiTinh \u001b[39m/\u001b[39;49m sum_nu \u001b[39m*\u001b[39m \u001b[39m100\u001b[39m\n\u001b[0;32m      4\u001b[0m nu_nongthon\n",
      "File \u001b[1;32mc:\\Users\\Admin\\AppData\\Local\\Programs\\Python\\Python310\\lib\\site-packages\\pandas\\core\\ops\\common.py:72\u001b[0m, in \u001b[0;36m_unpack_zerodim_and_defer.<locals>.new_method\u001b[1;34m(self, other)\u001b[0m\n\u001b[0;32m     68\u001b[0m             \u001b[39mreturn\u001b[39;00m \u001b[39mNotImplemented\u001b[39m\n\u001b[0;32m     70\u001b[0m other \u001b[39m=\u001b[39m item_from_zerodim(other)\n\u001b[1;32m---> 72\u001b[0m \u001b[39mreturn\u001b[39;00m method(\u001b[39mself\u001b[39;49m, other)\n",
      "File \u001b[1;32mc:\\Users\\Admin\\AppData\\Local\\Programs\\Python\\Python310\\lib\\site-packages\\pandas\\core\\arraylike.py:126\u001b[0m, in \u001b[0;36mOpsMixin.__truediv__\u001b[1;34m(self, other)\u001b[0m\n\u001b[0;32m    124\u001b[0m \u001b[39m@unpack_zerodim_and_defer\u001b[39m(\u001b[39m\"\u001b[39m\u001b[39m__truediv__\u001b[39m\u001b[39m\"\u001b[39m)\n\u001b[0;32m    125\u001b[0m \u001b[39mdef\u001b[39;00m \u001b[39m__truediv__\u001b[39m(\u001b[39mself\u001b[39m, other):\n\u001b[1;32m--> 126\u001b[0m     \u001b[39mreturn\u001b[39;00m \u001b[39mself\u001b[39;49m\u001b[39m.\u001b[39;49m_arith_method(other, operator\u001b[39m.\u001b[39;49mtruediv)\n",
      "File \u001b[1;32mc:\\Users\\Admin\\AppData\\Local\\Programs\\Python\\Python310\\lib\\site-packages\\pandas\\core\\series.py:6259\u001b[0m, in \u001b[0;36mSeries._arith_method\u001b[1;34m(self, other, op)\u001b[0m\n\u001b[0;32m   6257\u001b[0m \u001b[39mdef\u001b[39;00m \u001b[39m_arith_method\u001b[39m(\u001b[39mself\u001b[39m, other, op):\n\u001b[0;32m   6258\u001b[0m     \u001b[39mself\u001b[39m, other \u001b[39m=\u001b[39m ops\u001b[39m.\u001b[39malign_method_SERIES(\u001b[39mself\u001b[39m, other)\n\u001b[1;32m-> 6259\u001b[0m     \u001b[39mreturn\u001b[39;00m base\u001b[39m.\u001b[39;49mIndexOpsMixin\u001b[39m.\u001b[39;49m_arith_method(\u001b[39mself\u001b[39;49m, other, op)\n",
      "File \u001b[1;32mc:\\Users\\Admin\\AppData\\Local\\Programs\\Python\\Python310\\lib\\site-packages\\pandas\\core\\base.py:1325\u001b[0m, in \u001b[0;36mIndexOpsMixin._arith_method\u001b[1;34m(self, other, op)\u001b[0m\n\u001b[0;32m   1322\u001b[0m rvalues \u001b[39m=\u001b[39m ensure_wrapped_if_datetimelike(rvalues)\n\u001b[0;32m   1324\u001b[0m \u001b[39mwith\u001b[39;00m np\u001b[39m.\u001b[39merrstate(\u001b[39mall\u001b[39m\u001b[39m=\u001b[39m\u001b[39m\"\u001b[39m\u001b[39mignore\u001b[39m\u001b[39m\"\u001b[39m):\n\u001b[1;32m-> 1325\u001b[0m     result \u001b[39m=\u001b[39m ops\u001b[39m.\u001b[39;49marithmetic_op(lvalues, rvalues, op)\n\u001b[0;32m   1327\u001b[0m \u001b[39mreturn\u001b[39;00m \u001b[39mself\u001b[39m\u001b[39m.\u001b[39m_construct_result(result, name\u001b[39m=\u001b[39mres_name)\n",
      "File \u001b[1;32mc:\\Users\\Admin\\AppData\\Local\\Programs\\Python\\Python310\\lib\\site-packages\\pandas\\core\\ops\\array_ops.py:226\u001b[0m, in \u001b[0;36marithmetic_op\u001b[1;34m(left, right, op)\u001b[0m\n\u001b[0;32m    222\u001b[0m     _bool_arith_check(op, left, right)\n\u001b[0;32m    224\u001b[0m     \u001b[39m# error: Argument 1 to \"_na_arithmetic_op\" has incompatible type\u001b[39;00m\n\u001b[0;32m    225\u001b[0m     \u001b[39m# \"Union[ExtensionArray, ndarray[Any, Any]]\"; expected \"ndarray[Any, Any]\"\u001b[39;00m\n\u001b[1;32m--> 226\u001b[0m     res_values \u001b[39m=\u001b[39m _na_arithmetic_op(left, right, op)  \u001b[39m# type: ignore[arg-type]\u001b[39;00m\n\u001b[0;32m    228\u001b[0m \u001b[39mreturn\u001b[39;00m res_values\n",
      "File \u001b[1;32mc:\\Users\\Admin\\AppData\\Local\\Programs\\Python\\Python310\\lib\\site-packages\\pandas\\core\\ops\\array_ops.py:172\u001b[0m, in \u001b[0;36m_na_arithmetic_op\u001b[1;34m(left, right, op, is_cmp)\u001b[0m\n\u001b[0;32m    166\u001b[0m \u001b[39mexcept\u001b[39;00m \u001b[39mTypeError\u001b[39;00m:\n\u001b[0;32m    167\u001b[0m     \u001b[39mif\u001b[39;00m \u001b[39mnot\u001b[39;00m is_cmp \u001b[39mand\u001b[39;00m (is_object_dtype(left\u001b[39m.\u001b[39mdtype) \u001b[39mor\u001b[39;00m is_object_dtype(right)):\n\u001b[0;32m    168\u001b[0m         \u001b[39m# For object dtype, fallback to a masked operation (only operating\u001b[39;00m\n\u001b[0;32m    169\u001b[0m         \u001b[39m#  on the non-missing values)\u001b[39;00m\n\u001b[0;32m    170\u001b[0m         \u001b[39m# Don't do this for comparisons, as that will handle complex numbers\u001b[39;00m\n\u001b[0;32m    171\u001b[0m         \u001b[39m#  incorrectly, see GH#32047\u001b[39;00m\n\u001b[1;32m--> 172\u001b[0m         result \u001b[39m=\u001b[39m _masked_arith_op(left, right, op)\n\u001b[0;32m    173\u001b[0m     \u001b[39melse\u001b[39;00m:\n\u001b[0;32m    174\u001b[0m         \u001b[39mraise\u001b[39;00m\n",
      "File \u001b[1;32mc:\\Users\\Admin\\AppData\\Local\\Programs\\Python\\Python310\\lib\\site-packages\\pandas\\core\\ops\\array_ops.py:129\u001b[0m, in \u001b[0;36m_masked_arith_op\u001b[1;34m(x, y, op)\u001b[0m\n\u001b[0;32m    126\u001b[0m         mask \u001b[39m=\u001b[39m np\u001b[39m.\u001b[39mwhere(y \u001b[39m==\u001b[39m \u001b[39m1\u001b[39m, \u001b[39mFalse\u001b[39;00m, mask)\n\u001b[0;32m    128\u001b[0m     \u001b[39mif\u001b[39;00m mask\u001b[39m.\u001b[39many():\n\u001b[1;32m--> 129\u001b[0m         result[mask] \u001b[39m=\u001b[39m op(xrav[mask], y)\n\u001b[0;32m    131\u001b[0m np\u001b[39m.\u001b[39mputmask(result, \u001b[39m~\u001b[39mmask, np\u001b[39m.\u001b[39mnan)\n\u001b[0;32m    132\u001b[0m result \u001b[39m=\u001b[39m result\u001b[39m.\u001b[39mreshape(x\u001b[39m.\u001b[39mshape)  \u001b[39m# 2D compat\u001b[39;00m\n",
      "\u001b[1;31mTypeError\u001b[0m: unsupported operand type(s) for /: 'str' and 'int'"
     ]
    }
   ],
   "source": [
    "solieu\n",
    "sum_nu = solieu[solieu['GioiTinh'] == \"Nu\"].GioiTinh.count()\n",
    "sum_nu"
   ]
  }
 ],
 "metadata": {
  "kernelspec": {
   "display_name": "Python 3.10.4 64-bit",
   "language": "python",
   "name": "python3"
  },
  "language_info": {
   "codemirror_mode": {
    "name": "ipython",
    "version": 3
   },
   "file_extension": ".py",
   "mimetype": "text/x-python",
   "name": "python",
   "nbconvert_exporter": "python",
   "pygments_lexer": "ipython3",
   "version": "3.10.4"
  },
  "orig_nbformat": 4,
  "vscode": {
   "interpreter": {
    "hash": "a42ccb73e7d9bfdf27e036f1d2b8b681e55fc0743cc5586bc2474d4a60f4b886"
   }
  }
 },
 "nbformat": 4,
 "nbformat_minor": 2
}
